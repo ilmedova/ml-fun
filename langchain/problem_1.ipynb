{
 "cells": [
  {
   "metadata": {},
   "cell_type": "markdown",
   "source": [
    "Python Coding\n",
    "\n",
    "Problem Statement & Context -\n",
    "Creating Personalized Email Subject Lines for Marketing Campaigns: A marketing team wants to improve email open rates by using personalized subject lines\n",
    "tailored to individual recipients.\n",
    "\n",
    "Datasets -\n",
    "customer_data.csv - customer_id: Unique identifier for the customer - first_name: Customer's first name - last_name: Customer's last name - purchase_history:\n",
    "List of products purchased by the customer - email_subject_templates.txt - Contains various subject line templates with placeholders for personalization\n",
    "\n",
    "Tasks\n",
    "1. Develop a script that takes customer data and subject line templates as input.\n",
    "2. Replace placeholders in templates with relevant customer information (e.g., first name, last purchase).\n",
    "3. Generate a personalized subject line for each customer."
   ],
   "id": "2c04cdd2859b24d4"
  },
  {
   "cell_type": "code",
   "id": "initial_id",
   "metadata": {
    "collapsed": true,
    "ExecuteTime": {
     "end_time": "2024-05-17T21:36:10.861057Z",
     "start_time": "2024-05-17T21:36:10.858652Z"
    }
   },
   "source": [
    "import pandas as pd\n",
    "from langchain.prompts import ChatPromptTemplate"
   ],
   "outputs": [],
   "execution_count": 47
  },
  {
   "metadata": {
    "ExecuteTime": {
     "end_time": "2024-05-17T21:36:11.165528Z",
     "start_time": "2024-05-17T21:36:11.158469Z"
    }
   },
   "cell_type": "code",
   "source": [
    "customer_data = pd.read_csv('customer_data.csv')\n",
    "\n",
    "customer_data.columns = [\"customer_id\", \"first_name\", \"last_name\", \"item\"]\n",
    "\n",
    "f = open(\"email_template.txt\", \"r\")\n",
    "email_template = f.read()"
   ],
   "id": "a3d9e83d56cced65",
   "outputs": [],
   "execution_count": 48
  },
  {
   "metadata": {
    "ExecuteTime": {
     "end_time": "2024-05-17T21:36:11.461074Z",
     "start_time": "2024-05-17T21:36:11.457556Z"
    }
   },
   "cell_type": "code",
   "source": [
    "prompt_template = ChatPromptTemplate.from_template(email_template)\n",
    "print(prompt_template.messages[0].input_variables)"
   ],
   "id": "cc6def42a28910e7",
   "outputs": [
    {
     "name": "stdout",
     "output_type": "stream",
     "text": [
      "['first_name', 'item', 'last_name']\n"
     ]
    }
   ],
   "execution_count": 49
  },
  {
   "metadata": {
    "ExecuteTime": {
     "end_time": "2024-05-17T21:36:35.186733Z",
     "start_time": "2024-05-17T21:36:35.182698Z"
    }
   },
   "cell_type": "code",
   "source": [
    "customer_messages = {}\n",
    "\n",
    "\n",
    "for index in customer_data.index:\n",
    "    customer_messages[customer_data[\"customer_id\"][index]] = prompt_template.format_messages(first_name = customer_data[\"first_name\"][index], last_name = customer_data[\"last_name\"][index], item = customer_data[\"item\"][index])[0].content\n",
    "\n",
    "print(customer_messages)"
   ],
   "id": "f44c57a5384b817",
   "outputs": [
    {
     "name": "stdout",
     "output_type": "stream",
     "text": [
      "{1: 'Hello  Mahri  Ilmedova! This is your last purchased item:  Channel Chance Eu Tendre 20ml', 2: 'Hello  Hnin  Wai! This is your last purchased item:  Tote Bag - New York Nights'}\n"
     ]
    }
   ],
   "execution_count": 51
  }
 ],
 "metadata": {
  "kernelspec": {
   "display_name": "Python 3",
   "language": "python",
   "name": "python3"
  },
  "language_info": {
   "codemirror_mode": {
    "name": "ipython",
    "version": 2
   },
   "file_extension": ".py",
   "mimetype": "text/x-python",
   "name": "python",
   "nbconvert_exporter": "python",
   "pygments_lexer": "ipython2",
   "version": "2.7.6"
  }
 },
 "nbformat": 4,
 "nbformat_minor": 5
}
