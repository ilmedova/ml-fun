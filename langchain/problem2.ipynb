{
 "cells": [
  {
   "metadata": {},
   "cell_type": "markdown",
   "source": [
    "Langchain Coding\n",
    "Problem Statement - Financial News Sentiment Analyzer\n",
    "\n",
    "Dataset - news_articles.csv: A CSV file with financial news articles, including title, content, date.\n",
    "\n",
    "Tasks\n",
    "1. Load the CSV using LangChain's document loaders.\n",
    "2. For each article, use an LLM to analyze the sentiment (positive, negative, neutral) based on the content.\n",
    "3. Create a timeline of sentiment for a specific company or topic mentioned in the articles."
   ],
   "id": "c60508b866e94b81"
  },
  {
   "cell_type": "code",
   "id": "initial_id",
   "metadata": {
    "collapsed": true,
    "ExecuteTime": {
     "end_time": "2024-05-17T22:11:38.666163Z",
     "start_time": "2024-05-17T22:11:38.652783Z"
    }
   },
   "source": [
    "from langchain.document_loaders.csv_loader import CSVLoader\n",
    "from openai import OpenAI\n",
    "import os\n",
    "from dotenv import load_dotenv\n",
    "\n",
    "load_dotenv()\n",
    "\n",
    "client = OpenAI(api_key=os.getenv(\"OPENAI_API_KEY\"))\n"
   ],
   "outputs": [],
   "execution_count": 26
  },
  {
   "metadata": {
    "ExecuteTime": {
     "end_time": "2024-05-17T22:16:27.083491Z",
     "start_time": "2024-05-17T22:16:26.024172Z"
    }
   },
   "cell_type": "code",
   "source": [
    "def get_sentiment_analysis(text, model = \"gpt-3.5-turbo\"):\n",
    "    response = client.chat.completions.create(\n",
    "        model = model,\n",
    "        messages=[\n",
    "            {\n",
    "                \"role\": \"user\",\n",
    "                \"content\": f\"Analyze this article {text} and give me back response for sentiment analysis only positive, negative or neutral. Don't give me back anything except those three words\"\n",
    "            }\n",
    "        ]\n",
    "    )\n",
    "    return response.choices[0].message.content\n",
    "\n",
    "loader = CSVLoader(\n",
    "    file_path='news_articles.csv',\n",
    "    csv_args = {\n",
    "        \"delimiter\": \",\",\n",
    "        \"quotechar\": '\"',\n",
    "        \"fieldnames\": [\"article_id\", \"content\", \"date\"],\n",
    "    }\n",
    ")\n",
    "data = loader.load()\n",
    "for article in data:\n",
    "    print(get_sentiment_analysis(article.page_content))\n"
   ],
   "id": "dede1222d31b405b",
   "outputs": [
    {
     "name": "stdout",
     "output_type": "stream",
     "text": [
      "positive\n",
      "negative\n"
     ]
    }
   ],
   "execution_count": 27
  },
  {
   "metadata": {},
   "cell_type": "code",
   "outputs": [],
   "execution_count": null,
   "source": "",
   "id": "f153b6452114618f"
  }
 ],
 "metadata": {
  "kernelspec": {
   "display_name": "Python 3",
   "language": "python",
   "name": "python3"
  },
  "language_info": {
   "codemirror_mode": {
    "name": "ipython",
    "version": 2
   },
   "file_extension": ".py",
   "mimetype": "text/x-python",
   "name": "python",
   "nbconvert_exporter": "python",
   "pygments_lexer": "ipython2",
   "version": "2.7.6"
  }
 },
 "nbformat": 4,
 "nbformat_minor": 5
}
